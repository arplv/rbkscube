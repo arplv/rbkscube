{
 "cells": [
  {
   "cell_type": "code",
   "execution_count": 546,
   "metadata": {},
   "outputs": [],
   "source": [
    "import numpy as np\n",
    "import random as rd"
   ]
  },
  {
   "cell_type": "code",
   "execution_count": 875,
   "metadata": {},
   "outputs": [],
   "source": [
    "#initialise the cube:\n",
    "\n",
    "N=3\n",
    "cube = np.array([np.tile(i, (N, N)) for i in range(6)])\n",
    "\n",
    "#initialise the movements : "
   ]
  },
  {
   "cell_type": "code",
   "execution_count": 777,
   "metadata": {},
   "outputs": [],
   "source": [
    "def turn_up(cb):\n",
    "    old_cube0 = cb.copy()\n",
    "    old_cube1=old_cube0.copy()\n",
    "    old_cube2=old_cube1.copy()\n",
    "    old_cube3=old_cube2.copy()\n",
    "    old_cube4=old_cube3.copy()\n",
    "    name = 'turn up'\n",
    "    cb[0] = np.rot90(old_cube0[0].copy(),-1)\n",
    "    cb [5][0,] = old_cube1[2][0,].copy() #Left => Front\n",
    "    cb [2][0,] = old_cube2[4][0,].copy() #Front => Right\n",
    "    cb [4][0,] = old_cube3[3][0,].copy() #Right => Back\n",
    "    cb [3][0,] = old_cube4[5][0,].copy() #Back => Left  ",
    "    \n",
    "    return cb"
   ]
  },
  {
   "cell_type": "code",
   "execution_count": 778,
   "metadata": {},
   "outputs": [],
   "source": [
    "def turn_down(cb):\n",
    "    old_cube0 = cb.copy()\n",
    "    old_cube1=old_cube0.copy()#temporary fix\n",
    "    old_cube2=old_cube1.copy()\n",
    "    old_cube3=old_cube2.copy()\n",
    "    old_cube4=old_cube3.copy()\n",
    "    name = 'turn down'\n",
    "    cb[1] = np.rot90(old_cube0[1].copy(),)\n",
    "    cb [5][2,] = old_cube1[2][2,].copy() #Left => Front\n",
    "    cb [2][2,] = old_cube2[4][2,].copy() #Front => Right\n",
    "    cb [4][2,] = old_cube3[3][2,].copy() #Right => Back\n",
    "    cb [3][2,] = old_cube4[5][2,].copy() #Back => Left   \n",
    "    \n",
    "    return cb"
   ]
  },
  {
   "cell_type": "code",
   "execution_count": 779,
   "metadata": {},
   "outputs": [],
   "source": [
    "def turn_left(cb):\n",
    "    old_cube0 = cb.copy()\n",
    "    old_cube1=old_cube0.copy()#temporary fix, issue with copying the numpy array\n",
    "    old_cube2=old_cube1.copy()\n",
    "    old_cube3=old_cube2.copy()\n",
    "    old_cube4=old_cube3.copy()\n",
    "    \n",
    "    cb[5] = np.rot90(old_cube0[5].copy(),)\n",
    "    name = 'turn left'\n",
    "    cb [0][:,0] = old_cube1[2][:,0].copy() #top=front\n",
    "    cb [2][:,0] = old_cube2[1][:,0].copy()#front = down\n",
    "    cb [3][:,2] = old_cube3[0][::-1,0].copy()#back=top\n",
    "    cb [1][:,0] = old_cube4[3][:,2].copy()#down=back\n",
    "    \n",
    "    return cb"
   ]
  },
  {
   "cell_type": "code",
   "execution_count": 780,
   "metadata": {},
   "outputs": [],
   "source": [
    "def turn_right(cb):\n",
    "    old_cube0 = cb.copy()\n",
    "    old_cube1=old_cube0.copy()#temporary fix\n",
    "    old_cube2=old_cube1.copy()\n",
    "    old_cube3=old_cube2.copy()\n",
    "    old_cube4=old_cube3.copy()\n",
    "    name = 'turn right'\n",
    "    cb[4] = np.rot90(old_cube0[4].copy(),-1)\n",
    "    \n",
    "    cb [0][:,2] = old_cube1[2][:,2].copy() #top=front\n",
    "    cb [2][:,2] = old_cube2[1][:,2].copy()#front = down\n",
    "    cb [3][:,0] = old_cube3[0][::-1,2].copy()#back=top\n",
    "    cb [1][:,2] = old_cube4[3][:,0].copy()\n",
    "    \n",
    "    return cb"
   ]
  },
  {
   "cell_type": "code",
   "execution_count": 781,
   "metadata": {},
   "outputs": [],
   "source": [
    "def turn_front(cb):\n",
    "    old_cube0 = cb.copy()\n",
    "    old_cube1=old_cube0.copy()#temporary fix\n",
    "    old_cube2=old_cube1.copy()\n",
    "    old_cube3=old_cube2.copy()\n",
    "    old_cube4=old_cube3.copy()\n",
    "    name = 'turn front'\n",
    "    cb[2] = np.rot90(old_cube0[2].copy())\n",
    "    \n",
    "    cb [0][2,] = old_cube1[4][:,0].copy() #top=front\n",
    "    cb [5][:,2] = old_cube2[0][2,].copy()#front = down\n",
    "    cb [1][0,] = old_cube3[5][:,2].copy()#back=top\n",
    "    cb [4][:,0] = old_cube4[1][0,].copy()\n",
    "    \n",
    "    return cb"
   ]
  },
  {
   "cell_type": "code",
   "execution_count": 782,
   "metadata": {},
   "outputs": [],
   "source": [
    "def turn_back(cb):\n",
    "    old_cube0 = cb.copy()\n",
    "    old_cube1=old_cube0.copy()#temporary fix,\n",
    "    old_cube2=old_cube1.copy()\n",
    "    old_cube3=old_cube2.copy()\n",
    "    old_cube4=old_cube3.copy()\n",
    "    name = 'turn back'\n",
    "    \n",
    "    cb[3] = np.rot90(old_cube0[3].copy(),-1)\n",
    "    \n",
    "    \n",
    "    cb [0][0,] = old_cube1[4][:,2].copy() #top=front\n",
    "    cb [5][:,0] = old_cube2[0][0,].copy()#front = down\n",
    "    cb [1][2,] = old_cube3[5][:,0].copy()#back=top\n",
    "    cb [4][:,2] = old_cube4[1][2,].copy()\n",
    "    return cb"
   ]
  },
  {
   "cell_type": "code",
   "execution_count": 517,
   "metadata": {},
   "outputs": [],
   "source": [
    "faces = {'top':cube[0],'bot':cube[1],'front':cube[2],'back':cube[3],'right':cube[4],'left':cube[5]}\n"
   ]
  },
  {
   "cell_type": "code",
   "execution_count": 499,
   "metadata": {},
   "outputs": [],
   "source": [
    "random_act=[turn_front,turn_left,turn_right,turn_up,turn_down,turn_back] #c random action \n",
    "                                                                         #(useful for training of the agent)"
   ]
  },
  {
   "cell_type": "code",
   "execution_count": 851,
   "metadata": {},
   "outputs": [],
   "source": [
    "def check():\n",
    "    turn_front(cube)\n",
    "    turn_left(cube)\n",
    "    turn_right(cube)\n",
    "    turn_up(cube)\n",
    "    turn_down(cube)\n",
    "    turn_back(cube)\n",
    "    turn_front(cube)\n",
    "    turn_right(cube)"
   ]
  },
  {
   "cell_type": "code",
   "execution_count": 872,
   "metadata": {},
   "outputs": [],
   "source": [
    "def rand_choice(number):\n",
    "    i=0\n",
    "    while i !=number:\n",
    "        rd.choice(random_act)(cube)\n",
    "        i+=1"
   ]
  },
  {
   "cell_type": "code",
   "execution_count": 876,
   "metadata": {},
   "outputs": [],
   "source": [
    "rand_choice(6)"
   ]
  },
  {
   "cell_type": "code",
   "execution_count": 877,
   "metadata": {},
   "outputs": [
    {
     "data": {
      "text/plain": [
       "array([[[5, 1, 1],\n",
       "        [0, 0, 2],\n",
       "        [5, 4, 4]],\n",
       "\n",
       "       [[1, 5, 0],\n",
       "        [3, 1, 1],\n",
       "        [4, 5, 0]],\n",
       "\n",
       "       [[4, 2, 2],\n",
       "        [3, 2, 2],\n",
       "        [3, 1, 5]],\n",
       "\n",
       "       [[2, 0, 0],\n",
       "        [2, 3, 3],\n",
       "        [1, 3, 3]],\n",
       "\n",
       "       [[3, 5, 3],\n",
       "        [1, 4, 5],\n",
       "        [1, 4, 5]],\n",
       "\n",
       "       [[0, 4, 4],\n",
       "        [0, 5, 4],\n",
       "        [2, 0, 2]]])"
      ]
     },
     "execution_count": 877,
     "metadata": {},
     "output_type": "execute_result"
    }
   ],
   "source": []
  },
  {
   "cell_type": "code",
   "execution_count": null,
   "metadata": {},
   "outputs": [],
   "source": []
  }
 ],
 "metadata": {
  "kernelspec": {
   "display_name": "Python 3",
   "language": "python",
   "name": "python3"
  },
  "language_info": {
   "codemirror_mode": {
    "name": "ipython",
    "version": 3
   },
   "file_extension": ".py",
   "mimetype": "text/x-python",
   "name": "python",
   "nbconvert_exporter": "python",
   "pygments_lexer": "ipython3",
   "version": "3.6.5"
  }
 },
 "nbformat": 4,
 "nbformat_minor": 2
}
